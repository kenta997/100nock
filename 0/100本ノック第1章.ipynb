{
 "cells": [
  {
   "cell_type": "markdown",
   "metadata": {},
   "source": [
    "# 2019/09/21 レポート 森下健太"
   ]
  },
  {
   "cell_type": "markdown",
   "metadata": {},
   "source": [
    "# 自然言語処理100本ノック"
   ]
  },
  {
   "cell_type": "markdown",
   "metadata": {},
   "source": [
    "## 第1章: 準備運動"
   ]
  },
  {
   "cell_type": "markdown",
   "metadata": {},
   "source": [
    "### 00. 文字列の逆順"
   ]
  },
  {
   "cell_type": "code",
   "execution_count": 1,
   "metadata": {},
   "outputs": [
    {
     "name": "stdout",
     "output_type": "stream",
     "text": [
      "desserts\n"
     ]
    }
   ],
   "source": [
    "s = \"stressed\"\n",
    "print(s[::-1])"
   ]
  },
  {
   "cell_type": "markdown",
   "metadata": {},
   "source": [
    "### 01. 「パタトクカシーー」"
   ]
  },
  {
   "cell_type": "code",
   "execution_count": 2,
   "metadata": {},
   "outputs": [
    {
     "name": "stdout",
     "output_type": "stream",
     "text": [
      "パトカー\n"
     ]
    }
   ],
   "source": [
    "s = \"パタトクカシーー\"\n",
    "print(s[::2])"
   ]
  },
  {
   "cell_type": "markdown",
   "metadata": {},
   "source": [
    "### 02. 「パトカー」＋「タクシー」＝「パタトクカシーー」"
   ]
  },
  {
   "cell_type": "code",
   "execution_count": 3,
   "metadata": {},
   "outputs": [
    {
     "name": "stdout",
     "output_type": "stream",
     "text": [
      "パタトクカシーー\n"
     ]
    }
   ],
   "source": [
    "s1 = \"パトカー\"\n",
    "s2 = \"タクシー\"\n",
    "print(\"\".join([x + y for x, y in zip(s1, s2)]))"
   ]
  },
  {
   "cell_type": "markdown",
   "metadata": {},
   "source": [
    "### 03. 円周率"
   ]
  },
  {
   "cell_type": "code",
   "execution_count": 4,
   "metadata": {},
   "outputs": [
    {
     "name": "stdout",
     "output_type": "stream",
     "text": [
      "[3, 1, 4, 1, 5, 9, 2, 6, 5, 3, 5, 8, 9, 7, 9]\n"
     ]
    }
   ],
   "source": [
    "import re\n",
    "s = \"Now I need a drink, alcoholic of course, after the heavy lectures involving quantum mechanics.\"\n",
    "print([len(\"\".join(re.findall(\"[a-zA-z]+\", x))) for x in s.split()])  # アルファベットのみカウント"
   ]
  },
  {
   "cell_type": "markdown",
   "metadata": {},
   "source": [
    "### 04. 元素記号"
   ]
  },
  {
   "cell_type": "code",
   "execution_count": 5,
   "metadata": {},
   "outputs": [
    {
     "name": "stdout",
     "output_type": "stream",
     "text": [
      "{1: 'H', 2: 'He', 3: 'Li', 4: 'Be', 5: 'B', 6: 'C', 7: 'N', 8: 'O', 9: 'F', 10: 'Ne', 11: 'Na', 12: 'Mi', 13: 'Al', 14: 'Si', 15: 'P', 16: 'S', 17: 'Cl', 18: 'Ar', 19: 'K', 20: 'Ca'}\n"
     ]
    }
   ],
   "source": [
    "s = \"Hi He Lied Because Boron Could Not Oxidize Fluorine. \" \\\n",
    "    \"New Nations Might Also Sign Peace Security Clause. Arthur King Can.\"\n",
    "print({i + 1: x[0] if i + 1 in [1, 5, 6, 7, 8, 9, 15, 16, 19] else x[:2] for i, x in enumerate(s.split())})"
   ]
  },
  {
   "cell_type": "markdown",
   "metadata": {},
   "source": [
    "### 05. n-gram"
   ]
  },
  {
   "cell_type": "code",
   "execution_count": 6,
   "metadata": {},
   "outputs": [
    {
     "name": "stdout",
     "output_type": "stream",
     "text": [
      "[['I', 'am'], ['am', 'an'], ['an', 'NLPer']]\n",
      "['I ', ' a', 'am', 'm ', ' a', 'an', 'n ', ' N', 'NL', 'LP', 'Pe', 'er']\n"
     ]
    }
   ],
   "source": [
    "def ngram(s, n):\n",
    "    \"\"\"\n",
    "    n-gramを作る関数\n",
    "    --------------------------------------------------\n",
    "    s: 文字列(文字n-gram)または単語のリスト(単語n-gram)\n",
    "    n: 整数\n",
    "    ---------------------------------------------------\n",
    "    return: n-gram\n",
    "    \"\"\"\n",
    "    \n",
    "    return [s[i:i + n] for i in range(len(s) - n + 1)]\n",
    "\n",
    "\n",
    "s = \"I am an NLPer\"\n",
    "print(ngram(s.split(), 2))  # 単語bi-gram\n",
    "print(ngram(s, 2))  # 文字bi-gram"
   ]
  },
  {
   "cell_type": "markdown",
   "metadata": {},
   "source": [
    "### 06. 集合"
   ]
  },
  {
   "cell_type": "code",
   "execution_count": 7,
   "metadata": {},
   "outputs": [
    {
     "name": "stdout",
     "output_type": "stream",
     "text": [
      "X | Y:  {'ad', 'se', 'is', 'ap', 'gr', 'di', 'ph', 'ag', 'pa', 'ra', 'ar'}\n",
      "X & Y:  {'pa', 'ra', 'ar', 'ap'}\n",
      "X - Y:  {'di', 'ad', 'se', 'is'}\n",
      "\"se\" in X:  True\n",
      "\"se\" in Y:  False\n"
     ]
    }
   ],
   "source": [
    "s1 = \"paraparaparadise\"\n",
    "s2 = \"paragraph\"\n",
    "\n",
    "X = set(ngram(s1, 2))\n",
    "Y = set(ngram(s2, 2))\n",
    "\n",
    "print(\"X | Y: \", X | Y)  # 和集合\n",
    "print(\"X & Y: \", X & Y)  # 積集合\n",
    "print(\"X - Y: \", X - Y)  # 差集合\n",
    "print(\"\\\"se\\\" in X: \", \"se\" in X)\n",
    "print(\"\\\"se\\\" in Y: \", \"ss\" in Y)"
   ]
  },
  {
   "cell_type": "markdown",
   "metadata": {},
   "source": [
    "### 07. テンプレートによる文生成"
   ]
  },
  {
   "cell_type": "code",
   "execution_count": 8,
   "metadata": {},
   "outputs": [
    {
     "name": "stdout",
     "output_type": "stream",
     "text": [
      "12時の気温は22.4\n"
     ]
    }
   ],
   "source": [
    "def temp(x, y, z):\n",
    "    \"\"\"\n",
    "    テンプレート\n",
    "    -----------------------------\n",
    "    x: 文字列化可能なオブジェクト\n",
    "    y: 文字列化可能なオブジェクト\n",
    "    z: 文字列化可能なオブジェクト\n",
    "    -----------------------------\n",
    "    return: \"x時のyはz\"\n",
    "    \"\"\"\n",
    "    \n",
    "    return \"{}時の{}は{}\".format(x, y, z)\n",
    "\n",
    "\n",
    "print(temp(12, \"気温\", 22.4))"
   ]
  },
  {
   "cell_type": "markdown",
   "metadata": {},
   "source": [
    "### 08. 暗号文"
   ]
  },
  {
   "cell_type": "code",
   "execution_count": 9,
   "metadata": {},
   "outputs": [
    {
     "name": "stdout",
     "output_type": "stream",
     "text": [
      "I'110 122 107118105117118120103 115102110122109.\n",
      "I'm a perfect human.\n"
     ]
    }
   ],
   "source": [
    "def cipher(s):\n",
    "    \"\"\"\n",
    "    文字列を暗号化する関数\n",
    "    ----------------------\n",
    "    s: 文字列\n",
    "    ----------------------\n",
    "    return: 暗号文\n",
    "    \"\"\"\n",
    "    \n",
    "    return \"\".join([str(219 - ord(x)) if \"a\" <= x <= \"z\" else x for x in s])\n",
    "\n",
    "\n",
    "s = cipher(\"I'm a perfect human.\")  # 暗号化\n",
    "print(s)\n",
    "uncipher = \"\"\n",
    "\n",
    "# 複合化\n",
    "i = 0\n",
    "while i < len(s):\n",
    "    if s[i:i + 3].isdecimal():\n",
    "        uncipher += chr(219 - int(s[i:i + 3]))\n",
    "        i += 3\n",
    "    else:\n",
    "        uncipher += s[i]\n",
    "        i += 1\n",
    "print(uncipher)"
   ]
  },
  {
   "cell_type": "markdown",
   "metadata": {},
   "source": [
    "### Typoglycemia"
   ]
  },
  {
   "cell_type": "code",
   "execution_count": 10,
   "metadata": {},
   "outputs": [
    {
     "name": "stdout",
     "output_type": "stream",
     "text": [
      "I cnuld'ot bieleve that I colud atacully udsaetnrnd what I was reinadg : the pehnoenaml power of the human mind .\n"
     ]
    }
   ],
   "source": [
    "from random import sample\n",
    "\n",
    "s = \"I couldn't believe that I could actually understand what I was reading : the phenomenal power of the human mind .\"\n",
    "# 4文字以上の単語の先頭と末尾の文字以外をシャッフル\n",
    "print(\" \".join([x[0] + \"\".join(sample(x[1:-1], len(x) - 2)) + x[-1] if len(x) > 4 else x for x in s.split()]))"
   ]
  },
  {
   "cell_type": "code",
   "execution_count": null,
   "metadata": {},
   "outputs": [],
   "source": []
  }
 ],
 "metadata": {
  "kernelspec": {
   "display_name": "Python 3",
   "language": "python",
   "name": "python3"
  },
  "language_info": {
   "codemirror_mode": {
    "name": "ipython",
    "version": 3
   },
   "file_extension": ".py",
   "mimetype": "text/x-python",
   "name": "python",
   "nbconvert_exporter": "python",
   "pygments_lexer": "ipython3",
   "version": "3.7.2"
  }
 },
 "nbformat": 4,
 "nbformat_minor": 2
}
